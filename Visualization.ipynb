{
 "cells": [
  {
   "cell_type": "markdown",
   "metadata": {},
   "source": [
    "# Marvin Olmedo \n",
    "- Warming Stripes Replication"
   ]
  },
  {
   "cell_type": "code",
   "execution_count": 1,
   "metadata": {},
   "outputs": [],
   "source": [
    "import pandas as pd\n",
    "import numpy as np\n",
    "import matplotlib.pyplot as plt\n",
    "from matplotlib.colors import Normalize\n",
    "import os"
   ]
  },
  {
   "cell_type": "code",
   "execution_count": 2,
   "metadata": {},
   "outputs": [],
   "source": [
    "df1 = pd.read_csv('heat.csv')"
   ]
  },
  {
   "cell_type": "code",
   "execution_count": 3,
   "metadata": {},
   "outputs": [
    {
     "data": {
      "text/html": [
       "<div>\n",
       "<style scoped>\n",
       "    .dataframe tbody tr th:only-of-type {\n",
       "        vertical-align: middle;\n",
       "    }\n",
       "\n",
       "    .dataframe tbody tr th {\n",
       "        vertical-align: top;\n",
       "    }\n",
       "\n",
       "    .dataframe thead th {\n",
       "        text-align: right;\n",
       "    }\n",
       "</style>\n",
       "<table border=\"1\" class=\"dataframe\">\n",
       "  <thead>\n",
       "    <tr style=\"text-align: right;\">\n",
       "      <th></th>\n",
       "      <th>Column1</th>\n",
       "      <th>Column2</th>\n",
       "      <th>Column3</th>\n",
       "      <th>Column4</th>\n",
       "      <th>Column5</th>\n",
       "      <th>Column6</th>\n",
       "      <th>Column7</th>\n",
       "      <th>Column8</th>\n",
       "      <th>Column9</th>\n",
       "      <th>Column10</th>\n",
       "      <th>Column11</th>\n",
       "      <th>Column12</th>\n",
       "      <th>Average</th>\n",
       "    </tr>\n",
       "  </thead>\n",
       "  <tbody>\n",
       "    <tr>\n",
       "      <th>0</th>\n",
       "      <td>1850</td>\n",
       "      <td>-0.336</td>\n",
       "      <td>-0.406</td>\n",
       "      <td>-0.284</td>\n",
       "      <td>-0.459</td>\n",
       "      <td>-0.213</td>\n",
       "      <td>-0.495</td>\n",
       "      <td>-0.178</td>\n",
       "      <td>-0.480</td>\n",
       "      <td>-0.204</td>\n",
       "      <td>-0.551</td>\n",
       "      <td>-0.131</td>\n",
       "      <td>-0.339727</td>\n",
       "    </tr>\n",
       "    <tr>\n",
       "      <th>1</th>\n",
       "      <td>1851</td>\n",
       "      <td>-0.159</td>\n",
       "      <td>-0.242</td>\n",
       "      <td>-0.108</td>\n",
       "      <td>-0.288</td>\n",
       "      <td>-0.030</td>\n",
       "      <td>-0.322</td>\n",
       "      <td>0.004</td>\n",
       "      <td>-0.310</td>\n",
       "      <td>-0.021</td>\n",
       "      <td>-0.382</td>\n",
       "      <td>0.054</td>\n",
       "      <td>-0.164000</td>\n",
       "    </tr>\n",
       "    <tr>\n",
       "      <th>2</th>\n",
       "      <td>1852</td>\n",
       "      <td>-0.107</td>\n",
       "      <td>-0.180</td>\n",
       "      <td>-0.058</td>\n",
       "      <td>-0.231</td>\n",
       "      <td>0.018</td>\n",
       "      <td>-0.266</td>\n",
       "      <td>0.053</td>\n",
       "      <td>-0.251</td>\n",
       "      <td>0.027</td>\n",
       "      <td>-0.323</td>\n",
       "      <td>0.101</td>\n",
       "      <td>-0.110636</td>\n",
       "    </tr>\n",
       "    <tr>\n",
       "      <th>3</th>\n",
       "      <td>1853</td>\n",
       "      <td>-0.177</td>\n",
       "      <td>-0.253</td>\n",
       "      <td>-0.132</td>\n",
       "      <td>-0.293</td>\n",
       "      <td>-0.061</td>\n",
       "      <td>-0.338</td>\n",
       "      <td>-0.016</td>\n",
       "      <td>-0.313</td>\n",
       "      <td>-0.050</td>\n",
       "      <td>-0.389</td>\n",
       "      <td>0.027</td>\n",
       "      <td>-0.181364</td>\n",
       "    </tr>\n",
       "    <tr>\n",
       "      <th>4</th>\n",
       "      <td>1854</td>\n",
       "      <td>-0.071</td>\n",
       "      <td>-0.145</td>\n",
       "      <td>-0.026</td>\n",
       "      <td>-0.183</td>\n",
       "      <td>0.041</td>\n",
       "      <td>-0.222</td>\n",
       "      <td>0.080</td>\n",
       "      <td>-0.206</td>\n",
       "      <td>0.048</td>\n",
       "      <td>-0.275</td>\n",
       "      <td>0.119</td>\n",
       "      <td>-0.076364</td>\n",
       "    </tr>\n",
       "  </tbody>\n",
       "</table>\n",
       "</div>"
      ],
      "text/plain": [
       "   Column1  Column2  Column3  Column4  Column5  Column6  Column7  Column8  \\\n",
       "0     1850   -0.336   -0.406   -0.284   -0.459   -0.213   -0.495   -0.178   \n",
       "1     1851   -0.159   -0.242   -0.108   -0.288   -0.030   -0.322    0.004   \n",
       "2     1852   -0.107   -0.180   -0.058   -0.231    0.018   -0.266    0.053   \n",
       "3     1853   -0.177   -0.253   -0.132   -0.293   -0.061   -0.338   -0.016   \n",
       "4     1854   -0.071   -0.145   -0.026   -0.183    0.041   -0.222    0.080   \n",
       "\n",
       "   Column9  Column10  Column11  Column12   Average  \n",
       "0   -0.480    -0.204    -0.551    -0.131 -0.339727  \n",
       "1   -0.310    -0.021    -0.382     0.054 -0.164000  \n",
       "2   -0.251     0.027    -0.323     0.101 -0.110636  \n",
       "3   -0.313    -0.050    -0.389     0.027 -0.181364  \n",
       "4   -0.206     0.048    -0.275     0.119 -0.076364  "
      ]
     },
     "execution_count": 3,
     "metadata": {},
     "output_type": "execute_result"
    }
   ],
   "source": [
    "df1.head()"
   ]
  },
  {
   "cell_type": "code",
   "execution_count": 4,
   "metadata": {},
   "outputs": [],
   "source": [
    "temps = df1.Column2"
   ]
  },
  {
   "cell_type": "code",
   "execution_count": 5,
   "metadata": {},
   "outputs": [],
   "source": [
    "stacked_temps = np.stack((temps, temps))"
   ]
  },
  {
   "cell_type": "code",
   "execution_count": 6,
   "metadata": {},
   "outputs": [
    {
     "data": {
      "text/plain": [
       "(-0.5, 169.5, 1.5, -0.5)"
      ]
     },
     "execution_count": 6,
     "metadata": {},
     "output_type": "execute_result"
    },
    {
     "data": {
      "image/png": "[encoded data removed]",
      "text/plain": [
       "<Figure size 432x288 with 1 Axes>"
      ]
     },
     "metadata": {
      "needs_background": "light"
     },
     "output_type": "display_data"
    }
   ],
   "source": [
    "img = plt.imshow(stacked_temps, cmap='RdBu_r', aspect=50, )\n",
    "plt.axis('off')"
   ]
  }
 ],
 "metadata": {
  "kernelspec": {
   "display_name": "Python 3",
   "language": "python",
   "name": "python3"
  },
  "language_info": {
   "codemirror_mode": {
    "name": "ipython",
    "version": 3
   },
   "file_extension": ".py",
   "mimetype": "text/x-python",
   "name": "python",
   "nbconvert_exporter": "python",
   "pygments_lexer": "ipython3",
   "version": "3.7.1"
  }
 },
 "nbformat": 4,
 "nbformat_minor": 2
}
